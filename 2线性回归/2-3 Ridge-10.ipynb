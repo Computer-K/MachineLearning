{
 "cells": [
  {
   "cell_type": "code",
   "execution_count": 1,
   "id": "50a89220",
   "metadata": {},
   "outputs": [
    {
     "name": "stdout",
     "output_type": "stream",
     "text": [
      "w= [ 15.08678995  -1.95860257  60.69907663  47.11820496  14.72340007\n",
      "   9.87783455 -35.56018492  35.746079    54.27153373  37.42100763] ,b= 152.75858723229436\n",
      "模型在训练集上的预测准确率为： 0.15119902171779698\n",
      "模型在测试集上的预测准确率为： 0.16202035231681033\n"
     ]
    }
   ],
   "source": [
    "#项目2-例2-6代码\n",
    "\n",
    "#岭回归，参数为10\n",
    "#导入糖尿病数据集、岭回归模型及划分样本的方法\n",
    "from sklearn.linear_model import Ridge                     #导入岭回归模型\n",
    "from sklearn.datasets import load_diabetes                 #导入糖尿病数据集\n",
    "from sklearn.model_selection import train_test_split       #导入划分样本的方法\n",
    "\n",
    "#将数据集划分为训练集和测试集\n",
    "x,y=load_diabetes().data,load_diabetes().target\n",
    "x_train,x_test,y_train,y_test=train_test_split(x,y,random_state=8)\n",
    "\n",
    "#训练模型\n",
    "model=Ridge(alpha=10)\n",
    "model.fit(x_train,y_train)\n",
    "print('w=',model.coef_,',b=',model.intercept_)\n",
    "#评估模型\n",
    "#计算模型的预测准确率\n",
    "r21=model.score(x_train,y_train)\t#计算模型在训练集上的预测准确率\n",
    "r22=model.score(x_test,y_test)\t#计算模型在测试集上的预测准确率\n",
    "\n",
    "#输出模型的预测正确率\n",
    "print(\"模型在训练集上的预测准确率为：\",r21)            #输出模型在训练集上的预测准确率\n",
    "print(\"模型在测试集上的预测准确率为：\",r22)            #输出模型在测试集上的预测准确率"
   ]
  }
 ],
 "metadata": {
  "kernelspec": {
   "display_name": "Python 3 (ipykernel)",
   "language": "python",
   "name": "python3"
  },
  "language_info": {
   "codemirror_mode": {
    "name": "ipython",
    "version": 3
   },
   "file_extension": ".py",
   "mimetype": "text/x-python",
   "name": "python",
   "nbconvert_exporter": "python",
   "pygments_lexer": "ipython3",
   "version": "3.10.14"
  }
 },
 "nbformat": 4,
 "nbformat_minor": 5
}
