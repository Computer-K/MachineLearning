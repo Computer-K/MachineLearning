{
 "cells": [
  {
   "cell_type": "code",
   "execution_count": 10,
   "id": "e27c36e3",
   "metadata": {},
   "outputs": [
    {
     "data": {
      "text/plain": [
       "(array([[ 1.09706398, -2.07333501,  1.26993369, ...,  2.29607613,\n",
       "          2.75062224,  1.93701461],\n",
       "        [ 1.82982061, -0.35363241,  1.68595471, ...,  1.0870843 ,\n",
       "         -0.24388967,  0.28118999],\n",
       "        [ 1.57988811,  0.45618695,  1.56650313, ...,  1.95500035,\n",
       "          1.152255  ,  0.20139121],\n",
       "        ...,\n",
       "        [ 0.70228425,  2.0455738 ,  0.67267578, ...,  0.41406869,\n",
       "         -1.10454895, -0.31840916],\n",
       "        [ 1.83834103,  2.33645719,  1.98252415, ...,  2.28998549,\n",
       "          1.91908301,  2.21963528],\n",
       "        [-1.80840125,  1.22179204, -1.81438851, ..., -1.74506282,\n",
       "         -0.04813821, -0.75120669]]),\n",
       " array([0, 0, 0, 0, 0, 0, 0, 0, 0, 0, 0, 0, 0, 0, 0, 0, 0, 0, 0, 1, 1, 1,\n",
       "        0, 0, 0, 0, 0, 0, 0, 0, 0, 0, 0, 0, 0, 0, 0, 1, 0, 0, 0, 0, 0, 0,\n",
       "        0, 0, 1, 0, 1, 1, 1, 1, 1, 0, 0, 1, 0, 0, 1, 1, 1, 1, 0, 1, 0, 0,\n",
       "        1, 1, 1, 1, 0, 1, 0, 0, 1, 0, 1, 0, 0, 1, 1, 1, 0, 0, 1, 0, 0, 0,\n",
       "        1, 1, 1, 0, 1, 1, 0, 0, 1, 1, 1, 0, 0, 1, 1, 1, 1, 0, 1, 1, 0, 1,\n",
       "        1, 1, 1, 1, 1, 1, 1, 0, 0, 0, 1, 0, 0, 1, 1, 1, 0, 0, 1, 0, 1, 0,\n",
       "        0, 1, 0, 0, 1, 1, 0, 1, 1, 0, 1, 1, 1, 1, 0, 1, 1, 1, 1, 1, 1, 1,\n",
       "        1, 1, 0, 1, 1, 1, 1, 0, 0, 1, 0, 1, 1, 0, 0, 1, 1, 0, 0, 1, 1, 1,\n",
       "        1, 0, 1, 1, 0, 0, 0, 1, 0, 1, 0, 1, 1, 1, 0, 1, 1, 0, 0, 1, 0, 0,\n",
       "        0, 0, 1, 0, 0, 0, 1, 0, 1, 0, 1, 1, 0, 1, 0, 0, 0, 0, 1, 1, 0, 0,\n",
       "        1, 1, 1, 0, 1, 1, 1, 1, 1, 0, 0, 1, 1, 0, 1, 1, 0, 0, 1, 0, 1, 1,\n",
       "        1, 1, 0, 1, 1, 1, 1, 1, 0, 1, 0, 0, 0, 0, 0, 0, 0, 0, 0, 0, 0, 0,\n",
       "        0, 0, 1, 1, 1, 1, 1, 1, 0, 1, 0, 1, 1, 0, 1, 1, 0, 1, 0, 0, 1, 1,\n",
       "        1, 1, 1, 1, 1, 1, 1, 1, 1, 1, 1, 0, 1, 1, 0, 1, 0, 1, 1, 1, 1, 1,\n",
       "        1, 1, 1, 1, 1, 1, 1, 1, 1, 0, 1, 1, 1, 0, 1, 0, 1, 1, 1, 1, 0, 0,\n",
       "        0, 1, 1, 1, 1, 0, 1, 0, 1, 0, 1, 1, 1, 0, 1, 1, 1, 1, 1, 1, 1, 0,\n",
       "        0, 0, 1, 1, 1, 1, 1, 1, 1, 1, 1, 1, 1, 0, 0, 1, 0, 0, 0, 1, 0, 0,\n",
       "        1, 1, 1, 1, 1, 0, 1, 1, 1, 1, 1, 0, 1, 1, 1, 0, 1, 1, 0, 0, 1, 1,\n",
       "        1, 1, 1, 1, 0, 1, 1, 1, 1, 1, 1, 1, 0, 1, 1, 1, 1, 1, 0, 1, 1, 0,\n",
       "        1, 1, 1, 1, 1, 1, 1, 1, 1, 1, 1, 1, 0, 1, 0, 0, 1, 0, 1, 1, 1, 1,\n",
       "        1, 0, 1, 1, 0, 1, 0, 1, 1, 0, 1, 0, 1, 1, 1, 1, 1, 1, 1, 1, 0, 0,\n",
       "        1, 1, 1, 1, 1, 1, 0, 1, 1, 1, 1, 1, 1, 1, 1, 1, 1, 0, 1, 1, 1, 1,\n",
       "        1, 1, 1, 0, 1, 0, 1, 1, 0, 1, 1, 1, 1, 1, 0, 0, 1, 0, 1, 0, 1, 1,\n",
       "        1, 1, 1, 0, 1, 1, 0, 1, 0, 1, 0, 0, 1, 1, 1, 0, 1, 1, 1, 1, 1, 1,\n",
       "        1, 1, 1, 1, 1, 0, 1, 0, 0, 1, 1, 1, 1, 1, 1, 1, 1, 1, 1, 1, 1, 1,\n",
       "        1, 1, 1, 1, 1, 1, 1, 1, 1, 1, 1, 1, 0, 0, 0, 0, 0, 0, 1]))"
      ]
     },
     "execution_count": 10,
     "metadata": {},
     "output_type": "execute_result"
    }
   ],
   "source": [
    "#项目7-例7-2代码\n",
    "#数据准备\n",
    "from sklearn.datasets import load_breast_cancer #导入肺癌数据集\n",
    "from sklearn.svm import SVC     #导入支持向量机分类模块\n",
    "from sklearn.model_selection import train_test_split\n",
    "import numpy as np\n",
    "from sklearn.preprocessing import StandardScaler\n",
    "\n",
    "x,y=load_breast_cancer().data,load_breast_cancer().target \n",
    "x=StandardScaler().fit_transform(x)#数据标准化处理\n",
    "# x.shape,x.shape[0]\n",
    "x,y"
   ]
  },
  {
   "cell_type": "code",
   "execution_count": 9,
   "id": "a5288e62",
   "metadata": {},
   "outputs": [
    {
     "name": "stdout",
     "output_type": "stream",
     "text": [
      "{'gamma': array([1.00000000e-10, 3.79269019e-10, 1.43844989e-09, 5.45559478e-09,\n",
      "       2.06913808e-08, 7.84759970e-08, 2.97635144e-07, 1.12883789e-06,\n",
      "       4.28133240e-06, 1.62377674e-05, 6.15848211e-05, 2.33572147e-04,\n",
      "       8.85866790e-04, 3.35981829e-03, 1.27427499e-02, 4.83293024e-02,\n",
      "       1.83298071e-01, 6.95192796e-01, 2.63665090e+00, 1.00000000e+01]), 'coef0': array([0.        , 0.55555556, 1.11111111, 1.66666667, 2.22222222,\n",
      "       2.77777778, 3.33333333, 3.88888889, 4.44444444, 5.        ])}\n",
      "{'gamma': array([1.00000000e-10, 3.79269019e-10, 1.43844989e-09, 5.45559478e-09,\n",
      "       2.06913808e-08, 7.84759970e-08, 2.97635144e-07, 1.12883789e-06,\n",
      "       4.28133240e-06, 1.62377674e-05, 6.15848211e-05, 2.33572147e-04,\n",
      "       8.85866790e-04, 3.35981829e-03, 1.27427499e-02, 4.83293024e-02,\n",
      "       1.83298071e-01, 6.95192796e-01, 2.63665090e+00, 1.00000000e+01]), 'coef0': array([0.        , 0.55555556, 1.11111111, 1.66666667, 2.22222222,\n",
      "       2.77777778, 3.33333333, 3.88888889, 4.44444444, 5.        ]), 'key1': 'ddffdf'}\n",
      "最优参数值为：{'coef0': 0.0, 'gamma': 0.18329807108324375}\n",
      "最优参数值为：0.0\n",
      "最优参数值为：0.18329807108324375\n",
      "选取该参数值时，模型的预测准确率为：0.969591\n"
     ]
    }
   ],
   "source": [
    "#使用网格搜索法确定最优的参数值\n",
    "from sklearn.model_selection import StratifiedShuffleSplit  #分层抽样\n",
    "from sklearn.model_selection import GridSearchCV            #网格搜索\n",
    "\n",
    "gamma_range=np.logspace(-10,1,20) # 等比\n",
    "coef0_range=np.linspace(0,5,10) # 等差\n",
    "\n",
    "param_grid=dict(gamma=gamma_range,coef0=coef0_range)\n",
    "cv=StratifiedShuffleSplit(n_splits=5,test_size=0.3,random_state=420)  #对样本进行分层抽样,5次划分\n",
    "grid=GridSearchCV(SVC(kernel=\"poly\",degree=1),param_grid=param_grid,cv=cv) #使用网格搜索法寻找参数的最优值\n",
    "grid.fit(x,y)\n",
    "print(\"最优参数值为：%s\"%grid.best_params_)\n",
    "print(\"最优参数值为：%s\"%grid.best_params_['coef0'])\n",
    "print(\"最优参数值为：%s\"%grid.best_params_['gamma'])\n",
    "\n",
    "print(\"选取该参数值时，模型的预测准确率为：%f\"%grid.best_score_)"
   ]
  },
  {
   "cell_type": "code",
   "execution_count": null,
   "id": "44348658-621d-4a39-a6ea-2fb6aaac50c7",
   "metadata": {},
   "outputs": [],
   "source": []
  },
  {
   "cell_type": "code",
   "execution_count": 3,
   "id": "d98c96a8",
   "metadata": {},
   "outputs": [
    {
     "name": "stdout",
     "output_type": "stream",
     "text": [
      "<class 'numpy.ndarray'>\n",
      "[0.         0.55555556 1.11111111 1.66666667 2.22222222 2.77777778\n",
      " 3.33333333 3.88888889 4.44444444 5.        ]\n",
      "<class 'dict'>\n",
      "[1.00000000e-10 3.79269019e-10 1.43844989e-09 5.45559478e-09\n",
      " 2.06913808e-08 7.84759970e-08 2.97635144e-07 1.12883789e-06\n",
      " 4.28133240e-06 1.62377674e-05 6.15848211e-05 2.33572147e-04\n",
      " 8.85866790e-04 3.35981829e-03 1.27427499e-02 4.83293024e-02\n",
      " 1.83298071e-01 6.95192796e-01 2.63665090e+00 1.00000000e+01] \n",
      " [0.         0.55555556 1.11111111 1.66666667 2.22222222 2.77777778\n",
      " 3.33333333 3.88888889 4.44444444 5.        ] \n",
      " [1, 2, '3']\n"
     ]
    }
   ],
   "source": [
    "gamma_range=np.logspace(-10,1,20)\n",
    "coef0_range=np.linspace(0,5,10)\n",
    "print(type(gamma_range))\n",
    "print(coef0_range)\n",
    "a=[1,2,'3']\n",
    "param_grid=dict(gamma=gamma_range,coef10=coef0_range,ta=a)\n",
    "print(type(param_grid))\n",
    "print(param_grid['gamma'],'\\n',param_grid['coef10'],'\\n',param_grid['ta'])"
   ]
  },
  {
   "cell_type": "code",
   "execution_count": null,
   "id": "9b1eacc3-eb2b-40cd-aa9d-215ab18b0e7b",
   "metadata": {},
   "outputs": [],
   "source": []
  },
  {
   "cell_type": "code",
   "execution_count": 4,
   "id": "dbaed467-02f3-4b1d-918d-784572ecebfe",
   "metadata": {},
   "outputs": [
    {
     "name": "stdout",
     "output_type": "stream",
     "text": [
      "<generator object BaseShuffleSplit.split at 0x00000205B7CCB220>\n",
      "(array([5, 2, 6, 4, 1, 3], dtype=int64), array([7, 0], dtype=int64)) (array([4, 3, 5, 2, 7, 1], dtype=int64), array([6, 0], dtype=int64))\n",
      "TRAIN: [5 2 6 4 1 3] TEST: [7 0]\n",
      "TRAIN: [4 3 5 2 7 1] TEST: [6 0]\n"
     ]
    }
   ],
   "source": [
    "from sklearn.model_selection import StratifiedShuffleSplit\n",
    "import numpy as np\n",
    "X = np.array([[1, 2], [3, 4], [1, 2], [3, 4],\n",
    "              [1, 2],[3, 4], [1, 2], [3, 4]])#训练数据集8*2\n",
    "y = np.array([0, 0, 1, 1,0,0,1,1])#类别数据集8*1\n",
    "\n",
    "ss=StratifiedShuffleSplit(n_splits=2,train_size=0.75,test_size=0.25,random_state=0)#分成5组，测试比例为0.25，训练比例是0.75\n",
    "tt,sss=ss.split(X,y)\n",
    "print(ss.split(X,y))\n",
    "print(tt,sss)\n",
    "for train_index, test_index in ss.split(X, y):\n",
    "   print(\"TRAIN:\", train_index, \"TEST:\", test_index)#获得索引值\n",
    "   X_train, X_test = X[train_index], X[test_index]#训练集对应的值\n",
    "   y_train, y_test = y[train_index], y[test_index]#类别集对应的值\n"
   ]
  },
  {
   "cell_type": "code",
   "execution_count": null,
   "id": "14c8517e-26ae-48d5-9e0b-2a812d118c13",
   "metadata": {},
   "outputs": [],
   "source": []
  },
  {
   "cell_type": "code",
   "execution_count": null,
   "id": "8aa1ec75-7134-4593-9038-0ad40aa08ba8",
   "metadata": {},
   "outputs": [],
   "source": []
  }
 ],
 "metadata": {
  "kernelspec": {
   "display_name": "Python 3 (ipykernel)",
   "language": "python",
   "name": "python3"
  },
  "language_info": {
   "codemirror_mode": {
    "name": "ipython",
    "version": 3
   },
   "file_extension": ".py",
   "mimetype": "text/x-python",
   "name": "python",
   "nbconvert_exporter": "python",
   "pygments_lexer": "ipython3",
   "version": "3.10.14"
  }
 },
 "nbformat": 4,
 "nbformat_minor": 5
}
